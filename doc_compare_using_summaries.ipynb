{
 "cells": [
  {
   "cell_type": "code",
   "execution_count": null,
   "id": "596104c4",
   "metadata": {},
   "outputs": [],
   "source": [
    "\n",
    "# Import required libraries for IBM Watson Machine Learning and document processing\n",
    "from ibm_watson_machine_learning.foundation_models import Model\n",
    "from ibm_watson_machine_learning.foundation_models.utils.enums import ModelTypes\n",
    "from ibm_watson_machine_learning.metanames import GenTextParamsMetaNames as GenParams\n",
    "from ibm_watson_machine_learning.foundation_models.extensions.langchain import WatsonxLLM\n",
    "\n",
    "\n",
    "import os\n",
    "from dotenv import load_dotenv\n",
    "from PyPDF2 import PdfReader\n",
    "# Load environment variables\n",
    "load_dotenv()"
   ]
  },
  {
   "cell_type": "code",
   "execution_count": null,
   "id": "78211915",
   "metadata": {},
   "outputs": [],
   "source": [
    "# Set up API keys and configuration from environment variables\n",
    "api_key = os.getenv(\"API_KEY\")\n",
    "ibm_cloud_url = os.getenv(\"IBM_CLOUD_URL\")\n",
    "project_id = os.getenv(\"PROJECT_ID\")\n",
    "model_id = os.getenv(\"MODEL_ID\")\n",
    "model_id"
   ]
  },
  {
   "cell_type": "code",
   "execution_count": null,
   "id": "a2927d57",
   "metadata": {},
   "outputs": [],
   "source": [
    "\n",
    "\n",
    "# Validate that necessary credentials are available\n",
    "if not all([api_key, ibm_cloud_url, project_id]):\n",
    "    raise ValueError(\"Ensure the env variables API_KEY, IBM_CLOUD_URL, and PROJECT_ID are populated correctly.\")\n",
    "\n",
    "# Prepare credentials and model parameters\n",
    "creds = {\n",
    "    \"url\": ibm_cloud_url,\n",
    "    \"apikey\": api_key \n",
    "}\n",
    "\n",
    "params = {\n",
    "    GenParams.DECODING_METHOD: \"greedy\",\n",
    "    GenParams.MIN_NEW_TOKENS: 30,\n",
    "    GenParams.MAX_NEW_TOKENS: 3500,\n",
    "    GenParams.TEMPERATURE: 0.0,\n",
    "    GenParams.REPETITION_PENALTY: 1.05,\n",
    "    GenParams.RANDOM_SEED: 8888,\n",
    "}\n",
    "\n",
    "model = Model(model_id=model_id, params=params, credentials=creds, project_id=project_id)\n"
   ]
  },
  {
   "cell_type": "code",
   "execution_count": null,
   "id": "dff10de8",
   "metadata": {},
   "outputs": [],
   "source": [
    "\n",
    "# Function to create a summarization prompt for legal documents\n",
    "def summarize_prompt(content):\n",
    "    prompt = f\"\"\"[INST] You are a lawyer representing a global company and you are needed to read a document focusing on legal terms. \\\n",
    "Summarize the following document into point form while retaining needed information. Split it into sections and subpoints. Do not provide false information.\n",
    "\n",
    "Example of summary format:\n",
    "1. 'Section 1'\n",
    " - subpoint\n",
    " - subpoint\n",
    "\n",
    "2. 'Section 2'\n",
    " - subpoint\n",
    " - subpoint\n",
    " \n",
    "Document:\n",
    "{content}\n",
    "\"\"\"\n",
    "    return prompt\n"
   ]
  },
  {
   "cell_type": "code",
   "execution_count": null,
   "id": "297b2876",
   "metadata": {},
   "outputs": [],
   "source": [
    "# loader1 = PdfReader(\"/Users/chiatecksheng/Desktop/westpac_doc_compare/documents/5831_new.pdf\")\n",
    "new_loader = PdfReader(\"./data/pdf/5831_new.pdf\")\n",
    "# loader1 = PdfReader(\"/Users/chiatecksheng/Desktop/westpac_doc_compare/documents/3301_old_test.pdf\")\n",
    "content_new = \"\"\n",
    "for i in range(len(new_loader.pages)):\n",
    "    text = new_loader.pages[i].extract_text()\n",
    "    # print(text)\n",
    "    content_new += text\n",
    "    content_new += '\\n'\n",
    "\n",
    "# loader2 = PdfReader(\"/Users/chiatecksheng/Desktop/westpac_doc_compare/documents/5831_old.pdf\")\n",
    "old_loader = PdfReader(\"./data/pdf/5831_old.pdf\")\n",
    "content_old = \"\"\n",
    "for i in range(len(old_loader.pages)):\n",
    "    text = old_loader.pages[i].extract_text()\n",
    "    content_old += text\n",
    "    # content_old += '\\n'"
   ]
  },
  {
   "cell_type": "code",
   "execution_count": null,
   "id": "4b0c04ce",
   "metadata": {},
   "outputs": [],
   "source": [
    "\n",
    "# Provide summary for ref doc\n",
    "q1 = summarize_prompt(content_old)\n",
    "summary_old = model.generate_text(prompt=q1)\n",
    "print(summary_old)"
   ]
  },
  {
   "cell_type": "code",
   "execution_count": null,
   "id": "c24b8cc5",
   "metadata": {},
   "outputs": [],
   "source": [
    "# Provide summary for new doc\n",
    "q2 = summarize_prompt(content_new)\n",
    "summary_new = model.generate_text(prompt=q2)\n",
    "print(summary_new)"
   ]
  },
  {
   "cell_type": "code",
   "execution_count": null,
   "id": "b06317e7",
   "metadata": {},
   "outputs": [],
   "source": [
    "# Define a template to compare two summaries\n",
    "def compare_prompt(summary_1, summary_2):\n",
    "    prompt = f\"\"\"[INST] You are a lawyer representing a global company and you are needed to read a document focusing on legal terms. Given the following summaries of a New and Old document, compare the two summaries. \\\n",
    "Lets think step by step and list out the sections that are different and be specific in stating what are the differences. Do not provide false information. \\\n",
    "Output in the same format with comparison with the old document.\n",
    "\n",
    "New Document:\n",
    "{summary_1}\n",
    "\n",
    "Old Document:\n",
    "{summary_2}\n",
    "\n",
    "Differences: [/INST]\"\"\"\n",
    "    \n",
    "    return prompt"
   ]
  },
  {
   "cell_type": "code",
   "execution_count": null,
   "id": "bfed4ce2",
   "metadata": {},
   "outputs": [],
   "source": [
    "# Run GenAI model to compare two summaries\n",
    "q = compare_prompt(summary_new, summary_old)\n",
    "differences = model.generate_text(prompt=q)\n",
    "print(differences)"
   ]
  },
  {
   "cell_type": "markdown",
   "id": "43a55d0f",
   "metadata": {},
   "source": [
    "## Generating excel file for comparison"
   ]
  },
  {
   "cell_type": "code",
   "execution_count": null,
   "id": "36a31901",
   "metadata": {},
   "outputs": [],
   "source": [
    "import pandas as pd\n",
    "\n",
    "\n",
    "docs = [\"3301_new\", \"3301_old\", \"5831_new\", \"5831_old\"]\n",
    "\n",
    "contents = []\n",
    "generated_summ = []\n",
    "for doc in docs:\n",
    "    loader = PdfReader(f\"./data/pdf/{doc}.pdf\")\n",
    "    content = \"\"\n",
    "    for i in range(len(loader.pages)):\n",
    "        text = loader.pages[i].extract_text()\n",
    "        content += text\n",
    "    contents.append(content)\n",
    "    \n",
    "    q = summarize_prompt(content)\n",
    "    summary = model.generate_text(prompt=q)\n",
    "    generated_summ.append(summary)\n",
    "\n",
    "df = pd.DataFrame()\n",
    "df[\"document\"] = docs\n",
    "df[\"content\"] = content\n",
    "df[\"summary\"] = generated_summ\n",
    "df.to_excel(\"./results/results.xlsx\")"
   ]
  },
  {
   "cell_type": "code",
   "execution_count": null,
   "id": "2b194a1e",
   "metadata": {},
   "outputs": [],
   "source": [
    "docs = [\"3301_new\", \"3301_old\", \"5831_new\", \"5831_old\"]\n",
    "loader = PdfReader(f\"/data/pdf/{docs[2]}.pdf\")\n",
    "content = \"\"\n",
    "for i in range(len(loader.pages)):\n",
    "    text = loader.pages[i].extract_text()\n",
    "    content += text\n",
    "    \n",
    "q = summarize_prompt(content)\n",
    "summary = model.generate_text(prompt=q)\n",
    "print(summary)"
   ]
  }
 ],
 "metadata": {
  "language_info": {
   "name": "python"
  }
 },
 "nbformat": 4,
 "nbformat_minor": 5
}
